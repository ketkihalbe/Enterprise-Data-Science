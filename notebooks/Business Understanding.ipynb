{
 "cells": [
  {
   "cell_type": "code",
   "execution_count": 1,
   "id": "8070609e",
   "metadata": {},
   "outputs": [
    {
     "name": "stdout",
     "output_type": "stream",
     "text": [
      "CRISP_DM.png\n",
      "Untitled.ipynb\n"
     ]
    }
   ],
   "source": [
    "!ls"
   ]
  },
  {
   "cell_type": "markdown",
   "id": "d73e5852",
   "metadata": {},
   "source": [
    "![CRISP_DM](CRISP_DM.png)"
   ]
  },
  {
   "cell_type": "markdown",
   "id": "6af4063f",
   "metadata": {},
   "source": [
    "# Business Understanding"
   ]
  },
  {
   "cell_type": "markdown",
   "id": "ee2d4c68",
   "metadata": {},
   "source": [
    "We would like to track Corona VIRUS spread across countries and with personal local information\n",
    "\n",
    "The general information is not so relevant for me I would like to have a deep dive local development of the spread"
   ]
  },
  {
   "cell_type": "markdown",
   "id": "6835e725",
   "metadata": {},
   "source": [
    "# Goals"
   ]
  },
  {
   "cell_type": "markdown",
   "id": "00ff5b85",
   "metadata": {},
   "source": [
    "We would like to understand the data quality\n",
    "\n",
    "Everything should be automated as much as possible: how many clicks do we need to execute the full pipeline"
   ]
  },
  {
   "cell_type": "markdown",
   "id": "37c2eec0",
   "metadata": {},
   "source": [
    "# Constraints"
   ]
  },
  {
   "cell_type": "markdown",
   "id": "09397076",
   "metadata": {},
   "source": [
    "Each notebook should be left clean and ready for full execution"
   ]
  },
  {
   "cell_type": "code",
   "execution_count": null,
   "id": "52663792",
   "metadata": {},
   "outputs": [],
   "source": []
  }
 ],
 "metadata": {
  "kernelspec": {
   "display_name": "Python 3 (ipykernel)",
   "language": "python",
   "name": "python3"
  },
  "language_info": {
   "codemirror_mode": {
    "name": "ipython",
    "version": 3
   },
   "file_extension": ".py",
   "mimetype": "text/x-python",
   "name": "python",
   "nbconvert_exporter": "python",
   "pygments_lexer": "ipython3",
   "version": "3.9.12"
  }
 },
 "nbformat": 4,
 "nbformat_minor": 5
}
